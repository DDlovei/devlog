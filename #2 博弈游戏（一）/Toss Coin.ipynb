{
 "cells": [
  {
   "cell_type": "code",
   "execution_count": 1,
   "metadata": {},
   "outputs": [
    {
     "name": "stdout",
     "output_type": "stream",
     "text": [
      "电脑没有翻硬币\n",
      "你翻了硬币\n",
      "电脑没有翻硬币\n",
      "\n",
      "\n",
      "硬币是反面，你赢了\n"
     ]
    },
    {
     "data": {
      "text/plain": [
       "0"
      ]
     },
     "execution_count": 1,
     "metadata": {},
     "output_type": "execute_result"
    }
   ],
   "source": [
    "import random\n",
    "\n",
    "def toss_coin(player_move, verbose=False):\n",
    "    coin = 1\n",
    "    # Computer toss a coin\n",
    "    move1 = random.choice([True,False])\n",
    "    coin = 0 if move1 else 1\n",
    "    if verbose:\n",
    "        print(\"电脑翻了硬币\" if move1 else \"电脑没有翻硬币\")\n",
    "    \n",
    "    coin = coin if player_move else (1 - coin)\n",
    "    if verbose:\n",
    "        print(\"你翻了硬币\" if player_move else \"你没有翻硬币\")\n",
    "    \n",
    "    # Computer flip the coin again\n",
    "    move2 = random.choice([True,False])\n",
    "    coin = coin if move2 else (1 - coin)\n",
    "    if verbose:\n",
    "        print(\"电脑翻了硬币\" if move2 else \"电脑没有翻硬币\\n\\n\")\n",
    "    \n",
    "    if verbose:\n",
    "        print(\"硬币是正面，电脑赢了\" if coin else \"硬币是反面，你赢了\")\n",
    "    \n",
    "    return coin\n",
    "\n",
    "toss_coin(True, True)"
   ]
  },
  {
   "cell_type": "code",
   "execution_count": 4,
   "metadata": {},
   "outputs": [
    {
     "name": "stdout",
     "output_type": "stream",
     "text": [
      "电脑赢了508次，你赢了492次\n"
     ]
    },
    {
     "data": {
      "image/png": "[encoded data removed]",
      "text/plain": [
       "<Figure size 432x288 with 1 Axes>"
      ]
     },
     "metadata": {
      "needs_background": "light"
     },
     "output_type": "display_data"
    }
   ],
   "source": [
    "import matplotlib.pyplot as plt\n",
    "import numpy as np\n",
    "%matplotlib inline\n",
    "\n",
    "computer = 0\n",
    "player = 0\n",
    "\n",
    "for i in range(1000):\n",
    "    player_move = random.choice([True,False])\n",
    "    if toss_coin(player_move) == 1:\n",
    "        computer += 1\n",
    "    else:\n",
    "        player += 1\n",
    "        \n",
    "x = np.arange(2)\n",
    "plt.bar(x, height=[computer, player])\n",
    "plt.xticks(x, ['Computer win','You win'])\n",
    "print(\"电脑赢了%s次，你赢了%s次\" % (computer, player))"
   ]
  },
  {
   "cell_type": "code",
   "execution_count": 1,
   "metadata": {},
   "outputs": [],
   "source": [
    "from qiskit import ClassicalRegister, QuantumRegister, QuantumCircuit\n",
    "from qiskit import execute, BasicAer\n",
    "from qiskit.tools.visualization import plot_histogram, circuit_drawer\n",
    "from ipywidgets import interact"
   ]
  },
  {
   "cell_type": "code",
   "execution_count": 44,
   "metadata": {},
   "outputs": [],
   "source": [
    "backend = BasicAer.get_backend('qasm_simulator') # define the backend\n",
    "\n",
    "def quantum_toss_coin(player_move, verbose=False):\n",
    "    # create the quantum circuit with the chosen coin moves\n",
    "    q = QuantumRegister(1) # create a quantum register with one qubit\n",
    "    # create a classical register that will hold the results of the measurement\n",
    "    c = ClassicalRegister(1) \n",
    "    qc = QuantumCircuit(q, c) # creates the quantum circuit\n",
    "    \n",
    "\n",
    "    # 1. move of A\n",
    "    qc.h(q[0]) \n",
    "\n",
    "    # 1. move of B \n",
    "    if player_move: qc.x(q[0])\n",
    "    else: qc.i(q[0])\n",
    "\n",
    "    # 2. move of A\n",
    "    qc.h(q[0]) \n",
    "\n",
    "    qc.measure(q, c) # Measure the qubits\n",
    "    \n",
    "    job = execute(qc, backend, shots=200)\n",
    "    result = job.result()\n",
    "    counts = result.get_counts(qc)\n",
    "    \n",
    "\n",
    "    def who_wins(counts):\n",
    "        if len(counts)==1 :\n",
    "            coin = 1 if (\"0\" in counts) else 0\n",
    "            if verbose: print('获胜的是', '电脑' if coin == 1 else '玩家')\n",
    "        else:\n",
    "            count0=counts[\"0\"]\n",
    "            count1=counts[\"1\"]\n",
    "            print('硬币处于叠加态')\n",
    "            print('电脑获胜的概率是',  \"%.1f%%\" % (100.*count0/(count0+count1)))\n",
    "            print('你获胜的概率是',  \"%.1f%%\" % (100.*count1/(count0+count1)))\n",
    "        return coin\n",
    "\n",
    "    coin = who_wins(counts)\n",
    "    \n",
    "    return qc, coin"
   ]
  },
  {
   "cell_type": "code",
   "execution_count": 45,
   "metadata": {},
   "outputs": [
    {
     "name": "stdout",
     "output_type": "stream",
     "text": [
      "获胜的是 电脑\n"
     ]
    },
    {
     "data": {
      "image/png": "[encoded data removed]",
      "text/plain": [
       "<Figure size 366.485x144.48 with 1 Axes>"
      ]
     },
     "execution_count": 45,
     "metadata": {},
     "output_type": "execute_result"
    }
   ],
   "source": [
    "qc, coin = quantum_toss_coin(False, True)\n",
    "qc.draw(output='mpl') # plot the circuit"
   ]
  },
  {
   "cell_type": "code",
   "execution_count": 46,
   "metadata": {},
   "outputs": [
    {
     "name": "stdout",
     "output_type": "stream",
     "text": [
      "电脑赢了1000次，你赢了0次\n"
     ]
    },
    {
     "data": {
      "image/png": "[encoded data removed]",
      "text/plain": [
       "<Figure size 432x288 with 1 Axes>"
      ]
     },
     "metadata": {
      "needs_background": "light"
     },
     "output_type": "display_data"
    }
   ],
   "source": [
    "import random\n",
    "import matplotlib.pyplot as plt\n",
    "import numpy as np\n",
    "\n",
    "%matplotlib inline\n",
    "computer = 0\n",
    "player = 0\n",
    "\n",
    "for i in range(1000):\n",
    "    player_move = random.choice([True,False])\n",
    "    qc, coin = quantum_toss_coin(player_move)\n",
    "    if coin == 1:\n",
    "        computer += 1\n",
    "    else:\n",
    "        player += 1\n",
    "        \n",
    "x = np.arange(2)\n",
    "plt.bar(x, height=[computer, player])\n",
    "plt.xticks(x, ['Computer win','You win'])\n",
    "print(\"电脑赢了%s次，你赢了%s次\" % (computer, player))"
   ]
  },
  {
   "cell_type": "code",
   "execution_count": null,
   "metadata": {},
   "outputs": [],
   "source": []
  }
 ],
 "metadata": {
  "kernelspec": {
   "display_name": "Python 3",
   "language": "python",
   "name": "python3"
  },
  "language_info": {
   "codemirror_mode": {
    "name": "ipython",
    "version": 3
   },
   "file_extension": ".py",
   "mimetype": "text/x-python",
   "name": "python",
   "nbconvert_exporter": "python",
   "pygments_lexer": "ipython3",
   "version": "3.8.3"
  }
 },
 "nbformat": 4,
 "nbformat_minor": 4
}
